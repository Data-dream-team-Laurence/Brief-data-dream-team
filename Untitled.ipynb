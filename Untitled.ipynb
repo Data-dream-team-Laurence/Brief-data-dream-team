{
 "cells": [
  {
   "cell_type": "code",
   "execution_count": 1,
   "id": "01683c0c",
   "metadata": {},
   "outputs": [],
   "source": [
    "import pandas as pd"
   ]
  },
  {
   "cell_type": "code",
   "execution_count": 13,
   "id": "2c7ebb3f",
   "metadata": {},
   "outputs": [],
   "source": [
    "customers = pd.read_csv(\"data/olist_customers_dataset.csv\")\n",
    "geolocation = pd.read_csv(\"data/olist_geolocation_dataset.csv\")\n",
    "items = pd.read_csv(\"data/olist_order_items_dataset.csv\")\n",
    "payments = pd.read_csv(\"data/olist_order_payments_dataset.csv\")\n",
    "reviews = pd.read_csv(\"data/olist_order_reviews_dataset.csv\")\n",
    "orders = pd.read_csv(\"data/olist_orders_dataset.csv\")\n",
    "products = pd.read_csv(\"data/olist_products_dataset.csv\")\n",
    "sellers = pd.read_csv(\"data/olist_sellers_dataset.csv\")\n",
    "translate = pd.read_csv(\"data/product_category_name_translation.csv\")"
   ]
  },
  {
   "cell_type": "code",
   "execution_count": 14,
   "id": "3978dc09",
   "metadata": {},
   "outputs": [
    {
     "data": {
      "text/html": [
       "<div>\n",
       "<style scoped>\n",
       "    .dataframe tbody tr th:only-of-type {\n",
       "        vertical-align: middle;\n",
       "    }\n",
       "\n",
       "    .dataframe tbody tr th {\n",
       "        vertical-align: top;\n",
       "    }\n",
       "\n",
       "    .dataframe thead th {\n",
       "        text-align: right;\n",
       "    }\n",
       "</style>\n",
       "<table border=\"1\" class=\"dataframe\">\n",
       "  <thead>\n",
       "    <tr style=\"text-align: right;\">\n",
       "      <th></th>\n",
       "      <th>product_category_name</th>\n",
       "      <th>product_category_name_english</th>\n",
       "    </tr>\n",
       "  </thead>\n",
       "  <tbody>\n",
       "    <tr>\n",
       "      <th>0</th>\n",
       "      <td>beleza_saude</td>\n",
       "      <td>health_beauty</td>\n",
       "    </tr>\n",
       "    <tr>\n",
       "      <th>1</th>\n",
       "      <td>informatica_acessorios</td>\n",
       "      <td>computers_accessories</td>\n",
       "    </tr>\n",
       "    <tr>\n",
       "      <th>2</th>\n",
       "      <td>automotivo</td>\n",
       "      <td>auto</td>\n",
       "    </tr>\n",
       "    <tr>\n",
       "      <th>3</th>\n",
       "      <td>cama_mesa_banho</td>\n",
       "      <td>bed_bath_table</td>\n",
       "    </tr>\n",
       "    <tr>\n",
       "      <th>4</th>\n",
       "      <td>moveis_decoracao</td>\n",
       "      <td>furniture_decor</td>\n",
       "    </tr>\n",
       "  </tbody>\n",
       "</table>\n",
       "</div>"
      ],
      "text/plain": [
       "    product_category_name product_category_name_english\n",
       "0            beleza_saude                 health_beauty\n",
       "1  informatica_acessorios         computers_accessories\n",
       "2              automotivo                          auto\n",
       "3         cama_mesa_banho                bed_bath_table\n",
       "4        moveis_decoracao               furniture_decor"
      ]
     },
     "execution_count": 14,
     "metadata": {},
     "output_type": "execute_result"
    }
   ],
   "source": [
    "translate.head()"
   ]
  },
  {
   "cell_type": "code",
   "execution_count": 15,
   "id": "56d68dc0",
   "metadata": {},
   "outputs": [],
   "source": [
    "translate_mapper = dict(zip(translate.product_category_name, translate.product_category_name_english))"
   ]
  },
  {
   "cell_type": "code",
   "execution_count": 16,
   "id": "8fe5892d",
   "metadata": {},
   "outputs": [],
   "source": [
    "products['product_category_name'] = products.product_category_name.map(translate_mapper)"
   ]
  },
  {
   "cell_type": "code",
   "execution_count": 19,
   "id": "c990b12c",
   "metadata": {},
   "outputs": [
    {
     "data": {
      "text/plain": [
       "bed_bath_table               3029\n",
       "sports_leisure               2867\n",
       "furniture_decor              2657\n",
       "health_beauty                2444\n",
       "housewares                   2335\n",
       "                             ... \n",
       "tablets_printing_image          9\n",
       "fashion_childrens_clothes       5\n",
       "home_comfort_2                  5\n",
       "security_and_services           2\n",
       "cds_dvds_musicals               1\n",
       "Name: product_category_name, Length: 71, dtype: int64"
      ]
     },
     "execution_count": 19,
     "metadata": {},
     "output_type": "execute_result"
    }
   ],
   "source": [
    "products.product_category_name.value_counts()"
   ]
  },
  {
   "cell_type": "code",
   "execution_count": null,
   "id": "d9ee63b3",
   "metadata": {},
   "outputs": [],
   "source": []
  }
 ],
 "metadata": {
  "kernelspec": {
   "display_name": "Python 3 (ipykernel)",
   "language": "python",
   "name": "python3"
  },
  "language_info": {
   "codemirror_mode": {
    "name": "ipython",
    "version": 3
   },
   "file_extension": ".py",
   "mimetype": "text/x-python",
   "name": "python",
   "nbconvert_exporter": "python",
   "pygments_lexer": "ipython3",
   "version": "3.9.12"
  }
 },
 "nbformat": 4,
 "nbformat_minor": 5
}
