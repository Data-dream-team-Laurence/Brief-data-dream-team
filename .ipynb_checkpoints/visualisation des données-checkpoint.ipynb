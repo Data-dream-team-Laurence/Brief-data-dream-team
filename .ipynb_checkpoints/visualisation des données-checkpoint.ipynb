{
 "cells": [
  {
   "cell_type": "code",
   "execution_count": 2,
   "id": "c77926d9",
   "metadata": {},
   "outputs": [],
   "source": [
    "import pandas as pd"
   ]
  },
  {
   "cell_type": "code",
   "execution_count": 5,
   "id": "3c09fdbb",
   "metadata": {},
   "outputs": [],
   "source": [
    "customers = pd.read_csv('data/olist_customers_dataset.csv')\n",
    "geolocation = pd.read_csv('data/olist_geolocation_dataset.csv')\n",
    "items = pd.read_csv('data/olist_order_items_dataset.csv')\n",
    "payment = pd.read_csv('data/olist_order_payments_dataset.csv')\n",
    "reviews = pd.read_csv('data/olist_order_reviews_dataset.csv')\n",
    "orders = pd.read_csv('data/olist_orders_dataset.csv')\n",
    "product = pd.read_csv('data/olist_products_dataset.csv')\n",
    "sellers = pd.read_csv('data/olist_sellers_dataset.csv')\n",
    "translate = pd.read_csv('data/product_category_name_translation.csv')"
   ]
  },
  {
   "cell_type": "code",
   "execution_count": null,
   "id": "8f99cd33",
   "metadata": {},
   "outputs": [],
   "source": []
  }
 ],
 "metadata": {
  "kernelspec": {
   "display_name": "Python 3 (ipykernel)",
   "language": "python",
   "name": "python3"
  },
  "language_info": {
   "codemirror_mode": {
    "name": "ipython",
    "version": 3
   },
   "file_extension": ".py",
   "mimetype": "text/x-python",
   "name": "python",
   "nbconvert_exporter": "python",
   "pygments_lexer": "ipython3",
   "version": "3.9.12"
  }
 },
 "nbformat": 4,
 "nbformat_minor": 5
}
