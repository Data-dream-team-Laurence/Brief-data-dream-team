{
 "cells": [
  {
   "cell_type": "markdown",
   "id": "c8daec1b",
   "metadata": {},
   "source": [
    "# Analyse univariée des targets"
   ]
  },
  {
   "cell_type": "code",
   "execution_count": 1,
   "id": "88dc8f81",
   "metadata": {},
   "outputs": [],
   "source": [
    "import sqlite3\n",
    "import pandas as pd\n",
    "\n",
    "conn = sqlite3.connect('../data/marketplaces.db') \n",
    "\n",
    "# df_products = pd.DataFrame(pd.read_sql_query ('''SELECT * FROM product''', conn))\n",
    "# df_payments = pd.DataFrame(pd.read_sql_query ('''SELECT * FROM payments''', conn))\n",
    "# df_geolocation = pd.DataFrame(pd.read_sql_query ('''SELECT * FROM geolocation''', conn))\n",
    "# df_sellers = pd.DataFrame(pd.read_sql_query ('''SELECT * FROM sellers''', conn))\n",
    "# df_reviews = pd.DataFrame(pd.read_sql_query ('''SELECT * FROM reviews''', conn))\n",
    "# df_customers = pd.DataFrame(pd.read_sql_query ('''SELECT * FROM customers''', conn))\n",
    "# df_items = pd.DataFrame(pd.read_sql_query ('''SELECT * FROM items''', conn))                        \n",
    "# df_order = pd.DataFrame(pd.read_sql_query ('''SELECT * FROM `order`''', conn)) \n",
    "\n",
    "\n",
    "\n",
    "cur = conn.cursor()\n",
    "cur.execute(\"SELECT freight_value FROM items\")\n",
    "values = cur.fetchall()\n",
    "\n",
    "\n",
    "conn.close()\n"
   ]
  },
  {
   "cell_type": "code",
   "execution_count": 6,
   "id": "2dedade7",
   "metadata": {},
   "outputs": [
    {
     "name": "stdout",
     "output_type": "stream",
     "text": [
      "<class 'pandas.core.series.Series'>\n",
      "RangeIndex: 112650 entries, 0 to 112649\n",
      "Series name: None\n",
      "Non-Null Count   Dtype \n",
      "--------------   ----- \n",
      "112650 non-null  object\n",
      "dtypes: object(1)\n",
      "memory usage: 880.2+ KB\n"
     ]
    }
   ],
   "source": [
    "s = pd.Series(values)\n",
    "s\n",
    "\n",
    "s.info()"
   ]
  },
  {
   "cell_type": "code",
   "execution_count": 4,
   "id": "d8ad8eac",
   "metadata": {},
   "outputs": [
    {
     "data": {
      "text/html": [
       "<div>\n",
       "<style scoped>\n",
       "    .dataframe tbody tr th:only-of-type {\n",
       "        vertical-align: middle;\n",
       "    }\n",
       "\n",
       "    .dataframe tbody tr th {\n",
       "        vertical-align: top;\n",
       "    }\n",
       "\n",
       "    .dataframe thead th {\n",
       "        text-align: right;\n",
       "    }\n",
       "</style>\n",
       "<table border=\"1\" class=\"dataframe\">\n",
       "  <thead>\n",
       "    <tr style=\"text-align: right;\">\n",
       "      <th></th>\n",
       "      <th>id_items</th>\n",
       "      <th>order_id</th>\n",
       "      <th>order_item_id</th>\n",
       "      <th>product_id</th>\n",
       "      <th>seller_id</th>\n",
       "      <th>shipping_limit_date</th>\n",
       "      <th>price</th>\n",
       "      <th>freight_value</th>\n",
       "    </tr>\n",
       "  </thead>\n",
       "  <tbody>\n",
       "    <tr>\n",
       "      <th>count</th>\n",
       "      <td>0</td>\n",
       "      <td>112650</td>\n",
       "      <td>112650</td>\n",
       "      <td>112650</td>\n",
       "      <td>112650</td>\n",
       "      <td>112650</td>\n",
       "      <td>112650</td>\n",
       "      <td>112650</td>\n",
       "    </tr>\n",
       "    <tr>\n",
       "      <th>unique</th>\n",
       "      <td>0</td>\n",
       "      <td>98666</td>\n",
       "      <td>21</td>\n",
       "      <td>32951</td>\n",
       "      <td>3095</td>\n",
       "      <td>93318</td>\n",
       "      <td>5968</td>\n",
       "      <td>6999</td>\n",
       "    </tr>\n",
       "    <tr>\n",
       "      <th>top</th>\n",
       "      <td>NaN</td>\n",
       "      <td>8272b63d03f5f79c56e9e4120aec44ef</td>\n",
       "      <td>1</td>\n",
       "      <td>aca2eb7d00ea1a7b8ebd4e68314663af</td>\n",
       "      <td>6560211a19b47992c3666cc44a7e94c0</td>\n",
       "      <td>2017-07-21 18:25:23</td>\n",
       "      <td>59.9</td>\n",
       "      <td>15.1</td>\n",
       "    </tr>\n",
       "    <tr>\n",
       "      <th>freq</th>\n",
       "      <td>NaN</td>\n",
       "      <td>21</td>\n",
       "      <td>98666</td>\n",
       "      <td>527</td>\n",
       "      <td>2033</td>\n",
       "      <td>21</td>\n",
       "      <td>2481</td>\n",
       "      <td>3707</td>\n",
       "    </tr>\n",
       "  </tbody>\n",
       "</table>\n",
       "</div>"
      ],
      "text/plain": [
       "       id_items                          order_id order_item_id  \\\n",
       "count         0                            112650        112650   \n",
       "unique        0                             98666            21   \n",
       "top         NaN  8272b63d03f5f79c56e9e4120aec44ef             1   \n",
       "freq        NaN                                21         98666   \n",
       "\n",
       "                              product_id                         seller_id  \\\n",
       "count                             112650                            112650   \n",
       "unique                             32951                              3095   \n",
       "top     aca2eb7d00ea1a7b8ebd4e68314663af  6560211a19b47992c3666cc44a7e94c0   \n",
       "freq                                 527                              2033   \n",
       "\n",
       "        shipping_limit_date   price freight_value  \n",
       "count                112650  112650        112650  \n",
       "unique                93318    5968          6999  \n",
       "top     2017-07-21 18:25:23    59.9          15.1  \n",
       "freq                     21    2481          3707  "
      ]
     },
     "execution_count": 4,
     "metadata": {},
     "output_type": "execute_result"
    }
   ],
   "source": [
    "df_items.describe()"
   ]
  },
  {
   "cell_type": "code",
   "execution_count": null,
   "id": "52f7cff2",
   "metadata": {},
   "outputs": [],
   "source": []
  }
 ],
 "metadata": {
  "kernelspec": {
   "display_name": "Python 3.10.7 64-bit (microsoft store)",
   "language": "python",
   "name": "python3"
  },
  "language_info": {
   "codemirror_mode": {
    "name": "ipython",
    "version": 3
   },
   "file_extension": ".py",
   "mimetype": "text/x-python",
   "name": "python",
   "nbconvert_exporter": "python",
   "pygments_lexer": "ipython3",
   "version": "3.10.7"
  },
  "vscode": {
   "interpreter": {
    "hash": "32b49f0b0d749bf1d3869d7d51aa7dc99cea2f07d826edef30d80d5021da13ff"
   }
  }
 },
 "nbformat": 4,
 "nbformat_minor": 5
}
