{
 "cells": [
  {
   "cell_type": "code",
   "execution_count": 8,
   "id": "b5873294",
   "metadata": {},
   "outputs": [],
   "source": [
    "import sqlite3\n",
    "import pandas as pd\n",
    "from sqlite3 import Error\n",
    "from matplotlib import pyplot as plt"
   ]
  },
  {
   "cell_type": "code",
   "execution_count": 2,
   "id": "f0ee4121",
   "metadata": {},
   "outputs": [],
   "source": [
    "def create_connection(db_file):    \n",
    "    \"\"\" create a database connection to the SQLite database\n",
    "        specified by db_file\n",
    "    :param db_file: database file\n",
    "    :return: Connection object or None\n",
    "    \"\"\"\n",
    "    conn = None\n",
    "    try:\n",
    "        conn = sqlite3.connect(db_file)\n",
    "        print(\"connexion établie\")\n",
    "        return conn\n",
    "    except Error as e:\n",
    "        print(e)\n",
    "\n",
    "    return conn"
   ]
  },
  {
   "cell_type": "code",
   "execution_count": 3,
   "id": "ef63c348",
   "metadata": {},
   "outputs": [],
   "source": [
    "with open('orders.sql', 'r') as sql_file:\n",
    "    sql_script = sql_file.read()"
   ]
  },
  {
   "cell_type": "code",
   "execution_count": 5,
   "id": "5b0a0995",
   "metadata": {},
   "outputs": [
    {
     "ename": "OperationalError",
     "evalue": "no such column: order_status",
     "output_type": "error",
     "traceback": [
      "\u001b[1;31m---------------------------------------------------------------------------\u001b[0m",
      "\u001b[1;31mOperationalError\u001b[0m                          Traceback (most recent call last)",
      "Input \u001b[1;32mIn [5]\u001b[0m, in \u001b[0;36m<cell line: 3>\u001b[1;34m()\u001b[0m\n\u001b[0;32m      1\u001b[0m conn \u001b[38;5;241m=\u001b[39m sqlite3\u001b[38;5;241m.\u001b[39mconnect(\u001b[38;5;124m'\u001b[39m\u001b[38;5;124m../data/marketplaces.db\u001b[39m\u001b[38;5;124m'\u001b[39m)\n\u001b[0;32m      2\u001b[0m cur \u001b[38;5;241m=\u001b[39m conn\u001b[38;5;241m.\u001b[39mcursor()\n\u001b[1;32m----> 3\u001b[0m \u001b[43mcur\u001b[49m\u001b[38;5;241;43m.\u001b[39;49m\u001b[43mexecutescript\u001b[49m\u001b[43m(\u001b[49m\u001b[43msql_script\u001b[49m\u001b[43m)\u001b[49m\n",
      "\u001b[1;31mOperationalError\u001b[0m: no such column: order_status"
     ]
    }
   ],
   "source": [
    "conn = sqlite3.connect('../data/marketplaces.db')\n",
    "cur = conn.cursor()\n",
    "cur.executescript(sql_script)"
   ]
  },
  {
   "cell_type": "code",
   "execution_count": 31,
   "id": "bd27b814",
   "metadata": {},
   "outputs": [
    {
     "name": "stdout",
     "output_type": "stream",
     "text": [
      "       Freight Value  Shipping Duration  Seller Zip  Customer Zip  \\\n",
      "0              13.29           1.214954       27277         28013   \n",
      "1              19.93           8.062083        3471         15775   \n",
      "2              17.87           6.029491       37564         35661   \n",
      "3              12.79           4.003229       14403         12952   \n",
      "4              18.14          13.289144       87900         13226   \n",
      "...              ...                ...         ...           ...   \n",
      "98899          43.41          15.449769       88303         65077   \n",
      "98900          36.53           6.518692        1206         81690   \n",
      "98901          16.95           1.881343       80610          4039   \n",
      "98902           8.72           1.122766        4733         13289   \n",
      "98903          12.79           3.156551       14940         18605   \n",
      "\n",
      "       Seller Latitude  Seller Longitude  Customer Latitude  \\\n",
      "0           -22.497188        -44.127324         -21.763186   \n",
      "1           -23.565754        -46.519097         -20.222506   \n",
      "2           -22.262802        -46.170735         -19.869998   \n",
      "3           -20.553651        -47.387145         -23.105968   \n",
      "4           -22.929583        -53.135750         -23.243402   \n",
      "...                ...               ...                ...   \n",
      "98899       -26.912506        -48.674090          -2.499937   \n",
      "98900       -23.535839        -46.642848         -25.582933   \n",
      "98901       -25.469563        -49.288176         -23.597320   \n",
      "98902       -23.637701        -46.695548         -23.039798   \n",
      "98903       -21.757225        -48.829541         -22.916837   \n",
      "\n",
      "       Customer Longitude  \n",
      "0              -41.310265  \n",
      "1              -50.898951  \n",
      "2              -44.593059  \n",
      "3              -46.590277  \n",
      "4              -46.827614  \n",
      "...                   ...  \n",
      "98899          -44.295904  \n",
      "98900          -49.313298  \n",
      "98901          -46.643843  \n",
      "98902          -46.979488  \n",
      "98903          -48.441730  \n",
      "\n",
      "[98904 rows x 8 columns]\n"
     ]
    }
   ],
   "source": [
    "# get rounded coordinates of each zip codes\n",
    "cur.execute('''\n",
    "            SELECT geolocation_zip_code_prefix, AVG(geolocation_lat), AVG(geolocation_lng)\n",
    "            FROM geolocations\n",
    "            GROUP BY geolocation_zip_code_prefix\n",
    "            ''')\n",
    "coordinates_df = pd.DataFrame(cur.fetchall(), columns = ['Zip', 'Latitude', 'Longitude'])\n",
    "\n",
    "# get the rest\n",
    "cur.execute('''\n",
    "            SELECT DISTINCT\n",
    "            freight_value,\n",
    "            (JULIANDAY(order_delivered_customer_date)\n",
    "            - JULIANDAY(order_delivered_carrier_date)), seller_zip_code_prefix, customer_zip_code_prefix\n",
    "            FROM items i\n",
    "            INNER JOIN orders o ON i.order_id = o.order_id\n",
    "            INNER JOIN sellers s ON s.seller_id = i.seller_id\n",
    "            INNER JOIN customers c ON c.customer_id = o.customer_id\n",
    "            ''')\n",
    "shipping_df = pd.DataFrame(cur.fetchall(), columns = ['Freight Value', 'Shipping Duration', 'Seller Zip', 'Customer Zip'])\n",
    "\n",
    "# merge info with proper zip coordinates\n",
    "shipping_df = pd.merge(shipping_df, coordinates_df, how='left', left_on='Seller Zip', right_on='Zip')\n",
    "shipping_df = pd.merge(shipping_df, coordinates_df, how='left', left_on='Customer Zip', right_on='Zip')\n",
    "shipping_df = shipping_df.drop(columns=['Zip_x', 'Zip_y'])\n",
    "shipping_df = shipping_df.rename(columns={\n",
    "                                          'Latitude_x':'Seller Latitude',\n",
    "                                          'Longitude_x':'Seller Longitude',\n",
    "                                          'Latitude_y':'Customer Latitude',\n",
    "                                          'Longitude_y':'Customer Longitude'\n",
    "                                         })\n",
    "print(shipping_df)"
   ]
  },
  {
   "cell_type": "code",
   "execution_count": 17,
   "id": "074dbee7",
   "metadata": {},
   "outputs": [
    {
     "name": "stdout",
     "output_type": "stream",
     "text": [
      "       Freight Value  Product Weight (g)  Product Length (cm)  \\\n",
      "0              13.29               650.0                 28.0   \n",
      "1              19.93             30000.0                 50.0   \n",
      "2              17.87              3050.0                 33.0   \n",
      "3              12.79               200.0                 16.0   \n",
      "4              18.14              3750.0                 35.0   \n",
      "...              ...                 ...                  ...   \n",
      "68315          44.02              2700.0                 60.0   \n",
      "68316          10.96               100.0                 60.0   \n",
      "68317          22.06               200.0                 25.0   \n",
      "68318          43.41             10150.0                 89.0   \n",
      "68319          36.53              8950.0                 45.0   \n",
      "\n",
      "       Product Height (cm)  Product Width (cm)  \n",
      "0                      9.0                14.0  \n",
      "1                     30.0                40.0  \n",
      "2                     13.0                33.0  \n",
      "3                     10.0                15.0  \n",
      "4                     40.0                30.0  \n",
      "...                    ...                 ...  \n",
      "68315                 15.0                15.0  \n",
      "68316                 16.0                11.0  \n",
      "68317                  5.0                18.0  \n",
      "68318                 15.0                40.0  \n",
      "68319                 26.0                38.0  \n",
      "\n",
      "[68320 rows x 5 columns]\n"
     ]
    }
   ],
   "source": [
    "cur.execute('''\n",
    "            SELECT DISTINCT\n",
    "            freight_value, product_weight_g, product_length_cm, product_height_cm, product_width_cm\n",
    "            FROM items INNER JOIN products ON items.product_id = products.product_id\n",
    "            ''')\n",
    "dimension_df = pd.DataFrame(cur.fetchall(), columns = ['Freight Value', 'Product Weight (g)', 'Product Length (cm)', 'Product Height (cm)', 'Product Width (cm)'])\n",
    "print(dimension_df)"
   ]
  }
 ],
 "metadata": {
  "kernelspec": {
   "display_name": "Python 3 (ipykernel)",
   "language": "python",
   "name": "python3"
  },
  "language_info": {
   "codemirror_mode": {
    "name": "ipython",
    "version": 3
   },
   "file_extension": ".py",
   "mimetype": "text/x-python",
   "name": "python",
   "nbconvert_exporter": "python",
   "pygments_lexer": "ipython3",
   "version": "3.9.12"
  }
 },
 "nbformat": 4,
 "nbformat_minor": 5
}
