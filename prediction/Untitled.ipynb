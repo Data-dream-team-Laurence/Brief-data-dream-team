{
 "cells": [
  {
   "cell_type": "code",
   "execution_count": 3,
   "id": "b5873294",
   "metadata": {},
   "outputs": [],
   "source": [
    "import sqlite3\n",
    "import pandas as pd\n",
    "from sqlite3 import Error"
   ]
  },
  {
   "cell_type": "code",
   "execution_count": 4,
   "id": "f0ee4121",
   "metadata": {},
   "outputs": [],
   "source": [
    "def create_connection(db_file):    \n",
    "    \"\"\" create a database connection to the SQLite database\n",
    "        specified by db_file\n",
    "    :param db_file: database file\n",
    "    :return: Connection object or None\n",
    "    \"\"\"\n",
    "    conn = None\n",
    "    try:\n",
    "        conn = sqlite3.connect(db_file)\n",
    "        print(\"connexion établie\")\n",
    "        return conn\n",
    "    except Error as e:\n",
    "        print(e)\n",
    "\n",
    "    return conn"
   ]
  },
  {
   "cell_type": "code",
   "execution_count": 15,
   "id": "ef63c348",
   "metadata": {},
   "outputs": [],
   "source": [
    "with open('orders.sql', 'r') as sql_file:\n",
    "    sql_script = sql_file.read()"
   ]
  },
  {
   "cell_type": "code",
   "execution_count": 16,
   "id": "5b0a0995",
   "metadata": {},
   "outputs": [
    {
     "data": {
      "text/plain": [
       "<sqlite3.Cursor at 0x22e5b409b90>"
      ]
     },
     "execution_count": 16,
     "metadata": {},
     "output_type": "execute_result"
    }
   ],
   "source": [
    "conn = sqlite3.connect('../data/marketplaces.db')\n",
    "cur = conn.cursor()\n",
    "cur.executescript(sql_script)"
   ]
  }
 ],
 "metadata": {
  "kernelspec": {
   "display_name": "Python 3 (ipykernel)",
   "language": "python",
   "name": "python3"
  },
  "language_info": {
   "codemirror_mode": {
    "name": "ipython",
    "version": 3
   },
   "file_extension": ".py",
   "mimetype": "text/x-python",
   "name": "python",
   "nbconvert_exporter": "python",
   "pygments_lexer": "ipython3",
   "version": "3.9.12"
  }
 },
 "nbformat": 4,
 "nbformat_minor": 5
}
